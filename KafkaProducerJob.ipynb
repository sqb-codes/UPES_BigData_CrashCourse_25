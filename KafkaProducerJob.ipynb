{
 "cells": [
  {
   "cell_type": "code",
   "execution_count": 1,
   "id": "c7f5efb7-70c1-42a7-a605-24859be0e516",
   "metadata": {},
   "outputs": [
    {
     "name": "stdout",
     "output_type": "stream",
     "text": [
      "Requirement already satisfied: kafka-python in /opt/anaconda3/lib/python3.12/site-packages (2.1.5)\n"
     ]
    }
   ],
   "source": [
    "!pip install kafka-python"
   ]
  },
  {
   "cell_type": "code",
   "execution_count": 2,
   "id": "73eb233b-01e9-4f39-af1d-4d761b66ef80",
   "metadata": {},
   "outputs": [],
   "source": [
    "from kafka import KafkaProducer\n",
    "import time\n",
    "import random\n",
    "import json"
   ]
  },
  {
   "cell_type": "code",
   "execution_count": 7,
   "id": "d801ce65-1dfa-40dc-8f91-1d807c6633c4",
   "metadata": {},
   "outputs": [
    {
     "data": {
      "text/plain": [
       "'{\"user\": \"Max\", \"event\": \"logout\", \"log_level\": \"WARN\", \"timestamp\": 1744294832.833367}'"
      ]
     },
     "execution_count": 7,
     "metadata": {},
     "output_type": "execute_result"
    }
   ],
   "source": [
    "log = {\n",
    "        \"user\" : random.choice([\"John\", \"Sam\", \"Max\", \"Nick\"]),\n",
    "        \"event\" : random.choice([\"login\",\"logout\",\"payment\",\"scroll\"]),\n",
    "        \"log_level\": random.choice([\"DEBUG\",\"WARN\",\"ERROR\",\"INFO\"]),\n",
    "        \"timestamp\": time.time()\n",
    "    }\n",
    "\n",
    "json.dumps(log)"
   ]
  },
  {
   "cell_type": "code",
   "execution_count": 10,
   "id": "ad04917f-11e5-406a-a22b-ffafa09ca789",
   "metadata": {},
   "outputs": [
    {
     "name": "stdout",
     "output_type": "stream",
     "text": [
      "Sent : {'user': 'John', 'event': 'login', 'log_level': 'DEBUG', 'timestamp': 1744296003.865161}\n",
      "Sent : {'user': 'John', 'event': 'logout', 'log_level': 'ERROR', 'timestamp': 1744296008.974485}\n",
      "Sent : {'user': 'John', 'event': 'payment', 'log_level': 'ERROR', 'timestamp': 1744296013.9775739}\n",
      "Sent : {'user': 'Max', 'event': 'scroll', 'log_level': 'WARN', 'timestamp': 1744296018.984309}\n",
      "Sent : {'user': 'John', 'event': 'scroll', 'log_level': 'DEBUG', 'timestamp': 1744296023.991426}\n",
      "Sent : {'user': 'John', 'event': 'logout', 'log_level': 'INFO', 'timestamp': 1744296028.998815}\n",
      "Sent : {'user': 'Sam', 'event': 'scroll', 'log_level': 'ERROR', 'timestamp': 1744296034.000434}\n",
      "Sent : {'user': 'Nick', 'event': 'scroll', 'log_level': 'ERROR', 'timestamp': 1744296039.00614}\n",
      "Sent : {'user': 'Nick', 'event': 'payment', 'log_level': 'WARN', 'timestamp': 1744296044.007206}\n",
      "Sent : {'user': 'Max', 'event': 'scroll', 'log_level': 'DEBUG', 'timestamp': 1744296049.012416}\n",
      "Sent : {'user': 'Nick', 'event': 'scroll', 'log_level': 'DEBUG', 'timestamp': 1744296054.020788}\n",
      "Sent : {'user': 'Nick', 'event': 'scroll', 'log_level': 'DEBUG', 'timestamp': 1744296059.0287502}\n",
      "Sent : {'user': 'Sam', 'event': 'payment', 'log_level': 'WARN', 'timestamp': 1744296064.034035}\n",
      "Sent : {'user': 'Sam', 'event': 'login', 'log_level': 'WARN', 'timestamp': 1744296069.039538}\n",
      "Sent : {'user': 'Max', 'event': 'scroll', 'log_level': 'WARN', 'timestamp': 1744296074.04443}\n",
      "Sent : {'user': 'Max', 'event': 'scroll', 'log_level': 'DEBUG', 'timestamp': 1744296079.050602}\n",
      "Sent : {'user': 'Nick', 'event': 'login', 'log_level': 'DEBUG', 'timestamp': 1744296084.061766}\n",
      "Sent : {'user': 'Max', 'event': 'payment', 'log_level': 'DEBUG', 'timestamp': 1744296089.0691142}\n",
      "Sent : {'user': 'Nick', 'event': 'logout', 'log_level': 'ERROR', 'timestamp': 1744296094.0752041}\n",
      "Sent : {'user': 'John', 'event': 'payment', 'log_level': 'INFO', 'timestamp': 1744296099.0784519}\n",
      "Sent : {'user': 'Nick', 'event': 'logout', 'log_level': 'ERROR', 'timestamp': 1744296104.083216}\n",
      "Sent : {'user': 'Max', 'event': 'logout', 'log_level': 'INFO', 'timestamp': 1744296109.0889988}\n",
      "Sent : {'user': 'Sam', 'event': 'scroll', 'log_level': 'INFO', 'timestamp': 1744296114.092291}\n"
     ]
    },
    {
     "ename": "KeyboardInterrupt",
     "evalue": "",
     "output_type": "error",
     "traceback": [
      "\u001b[0;31m---------------------------------------------------------------------------\u001b[0m",
      "\u001b[0;31mKeyboardInterrupt\u001b[0m                         Traceback (most recent call last)",
      "Cell \u001b[0;32mIn[10], line 13\u001b[0m\n\u001b[1;32m     11\u001b[0m producer\u001b[38;5;241m.\u001b[39msend(\u001b[38;5;124m\"\u001b[39m\u001b[38;5;124mlogs-topic\u001b[39m\u001b[38;5;124m\"\u001b[39m, key\u001b[38;5;241m=\u001b[39m\u001b[38;5;124m\"\u001b[39m\u001b[38;5;124mdata\u001b[39m\u001b[38;5;124m\"\u001b[39m\u001b[38;5;241m.\u001b[39mencode(), value\u001b[38;5;241m=\u001b[39mjson\u001b[38;5;241m.\u001b[39mdumps(log)\u001b[38;5;241m.\u001b[39mencode())\n\u001b[1;32m     12\u001b[0m \u001b[38;5;28mprint\u001b[39m(\u001b[38;5;124mf\u001b[39m\u001b[38;5;124m\"\u001b[39m\u001b[38;5;124mSent : \u001b[39m\u001b[38;5;132;01m{\u001b[39;00mlog\u001b[38;5;132;01m}\u001b[39;00m\u001b[38;5;124m\"\u001b[39m)\n\u001b[0;32m---> 13\u001b[0m time\u001b[38;5;241m.\u001b[39msleep(\u001b[38;5;241m5\u001b[39m)\n",
      "\u001b[0;31mKeyboardInterrupt\u001b[0m: "
     ]
    }
   ],
   "source": [
    "producer = KafkaProducer(bootstrap_servers=\"localhost:9092\")\n",
    "\n",
    "while True:\n",
    "    log = {\n",
    "        \"user\" : random.choice([\"John\", \"Sam\", \"Max\", \"Nick\"]),\n",
    "        \"event\" : random.choice([\"login\",\"logout\",\"payment\",\"scroll\"]),\n",
    "        \"log_level\": random.choice([\"DEBUG\",\"WARN\",\"ERROR\",\"INFO\"]),\n",
    "        \"timestamp\": time.time()\n",
    "    }\n",
    "    # convert string data to bytes in order to send logs over network\n",
    "    producer.send(\"logs-topic\", key=\"data\".encode(), value=json.dumps(log).encode())\n",
    "    print(f\"Sent : {log}\")\n",
    "    time.sleep(5)"
   ]
  },
  {
   "cell_type": "code",
   "execution_count": null,
   "id": "edb3cdd5-e763-473b-880f-05272dd7f7b5",
   "metadata": {},
   "outputs": [],
   "source": []
  }
 ],
 "metadata": {
  "kernelspec": {
   "display_name": "Python 3 (ipykernel)",
   "language": "python",
   "name": "python3"
  },
  "language_info": {
   "codemirror_mode": {
    "name": "ipython",
    "version": 3
   },
   "file_extension": ".py",
   "mimetype": "text/x-python",
   "name": "python",
   "nbconvert_exporter": "python",
   "pygments_lexer": "ipython3",
   "version": "3.12.7"
  }
 },
 "nbformat": 4,
 "nbformat_minor": 5
}
